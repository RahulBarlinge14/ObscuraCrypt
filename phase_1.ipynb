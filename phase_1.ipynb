{
 "cells": [
  {
   "cell_type": "code",
   "execution_count": 5,
   "metadata": {},
   "outputs": [
    {
     "name": "stdout",
     "output_type": "stream",
     "text": [
      "loading Roboflow workspace...\n",
      "loading Roboflow project...\n",
      "{'predictions': [{'x': 249.5, 'y': 172.0, 'width': 485.0, 'height': 338.0, 'confidence': 0.661292552947998, 'class': 'Aadhar cards', 'class_confidence': None, 'class_id': 0, 'tracker_id': None, 'image_path': 'phase_one.png', 'prediction_type': 'ObjectDetectionModel'}], 'image': {'width': '499', 'height': '364'}}\n"
     ]
    }
   ],
   "source": [
    "from roboflow import Roboflow\n",
    "rf = Roboflow(api_key=\"cJgsGRzufTCxwGPhQFVR\")\n",
    "project = rf.workspace().project(\"aadhar-card-detection-nfk6r\")\n",
    "model = project.version(1).model\n",
    "\n",
    "# infer on a local image\n",
    "# print(model.predict(\"Test_Sample.jpg\", confidence=40, overlap=30).json())\n",
    "print(model.predict(\"phase_one.png\", confidence=40, overlap=30).json())\n",
    "\n",
    "# visualize your prediction\n",
    "# model.predict(\"Test_Sample.jpg\", confidence=40, overlap=30).save(\"prediction.jpg\")\n",
    "model.predict(\"phase_one.png\", confidence=40, overlap=30).save(\"prediction2.jpg\")"
   ]
  },
  {
   "cell_type": "code",
   "execution_count": null,
   "metadata": {},
   "outputs": [],
   "source": []
  }
 ],
 "metadata": {
  "kernelspec": {
   "display_name": "Python 3",
   "language": "python",
   "name": "python3"
  },
  "language_info": {
   "codemirror_mode": {
    "name": "ipython",
    "version": 3
   },
   "file_extension": ".py",
   "mimetype": "text/x-python",
   "name": "python",
   "nbconvert_exporter": "python",
   "pygments_lexer": "ipython3",
   "version": "3.10.8"
  }
 },
 "nbformat": 4,
 "nbformat_minor": 2
}
