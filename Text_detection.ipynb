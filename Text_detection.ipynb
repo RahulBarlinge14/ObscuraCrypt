{
 "cells": [
  {
   "cell_type": "code",
   "execution_count": 6,
   "metadata": {},
   "outputs": [],
   "source": [
    "import pandas as pd\n",
    "import numpy as np\n",
    "\n",
    "from glob import glob\n",
    "from tqdm.notebook import tqdm\n",
    "\n",
    "import matplotlib.pyplot as plt\n",
    "from PIL import Image\n",
    "\n",
    "plt.style.use('ggplot')"
   ]
  },
  {
   "cell_type": "code",
   "execution_count": 7,
   "metadata": {},
   "outputs": [],
   "source": [
    "import cv2\n",
    "from PIL import Image\n",
    "import pytesseract"
   ]
  },
  {
   "cell_type": "code",
   "execution_count": 8,
   "metadata": {},
   "outputs": [],
   "source": [
    "image_file = \"Test_Sample.jpg\"\n",
    "# image_file_2 = \"aanti.jpg\"\n",
    "image = cv2.imread(image_file)\n",
    "image = cv2.cvtColor(image, cv2.COLOR_BGR2GRAY)"
   ]
  },
  {
   "cell_type": "code",
   "execution_count": 9,
   "metadata": {},
   "outputs": [],
   "source": [
    "image = cv2.GaussianBlur(\n",
    " src=image,\n",
    " ksize=(3, 3),\n",
    " sigmaX=0,\n",
    " sigmaY=0)"
   ]
  },
  {
   "cell_type": "code",
   "execution_count": 10,
   "metadata": {},
   "outputs": [
    {
     "data": {
      "text/plain": [
       "True"
      ]
     },
     "execution_count": 10,
     "metadata": {},
     "output_type": "execute_result"
    }
   ],
   "source": [
    "cv2.imwrite(\"KB.jpg\",image)"
   ]
  },
  {
   "cell_type": "code",
   "execution_count": 11,
   "metadata": {},
   "outputs": [],
   "source": [
    "no_noise = \"KB.jpg\""
   ]
  },
  {
   "cell_type": "code",
   "execution_count": 12,
   "metadata": {},
   "outputs": [
    {
     "name": "stdout",
     "output_type": "stream",
     "text": [
      "BNW HAs\n",
      "\n",
      "Government of India ¢\n",
      "AISA ATA\n",
      "NAJMA KHATUN\n",
      "Prot: aa mat fier\n",
      "Father : UMMAR ALI MIYA\n",
      "ST HF / Year of Birth : 1994\n",
      "af / Female\n",
      "\n",
      "4072 6523 3592\n",
      "\n",
      "\n"
     ]
    }
   ],
   "source": [
    "import pytesseract\n",
    "ocr_result =pytesseract.image_to_string(no_noise, lang='eng')\n",
    "print(ocr_result)"
   ]
  },
  {
   "cell_type": "code",
   "execution_count": 18,
   "metadata": {},
   "outputs": [
    {
     "data": {
      "text/plain": [
       "True"
      ]
     },
     "execution_count": 18,
     "metadata": {},
     "output_type": "execute_result"
    }
   ],
   "source": [
    "# import cv2\n",
    "\n",
    "# img = cv2.imread('aanti.jpg', 0)\n",
    "# cv2.threshold(img, 0, 255, cv2.THRESH_BINARY + cv2.THRESH_OTSU, img)\n",
    "\n",
    "# contours, hire= cv2.findContours(img, cv2.RETR_EXTERNAL,\n",
    "#                                   cv2.CHAIN_APPROX_NONE)\n",
    "# for c in contours:\n",
    "#   # get the bounding rect\n",
    "#   x, y, w, h = cv2.boundingRect(c)\n",
    "#   # draw a white rectangle to visualize the bounding rect\n",
    "#   cv2.rectangle(img, (x, y), (x + w, y + h), 255, 1)\n",
    "\n",
    "# cv2.drawContours(img, contours, -1, (255, 255, 0), 1)\n",
    "\n",
    "# cv2.imwrite(\"output.jpg\", img)"
   ]
  },
  {
   "cell_type": "code",
   "execution_count": 13,
   "metadata": {},
   "outputs": [],
   "source": [
    "import pandas as pd\n",
    "data_result =pytesseract.image_to_data(\n",
    "    no_noise,\n",
    "    output_type=pytesseract.Output.DATAFRAME,\n",
    "    lang='eng')\n",
    "# df = pytesseract.Output.DATAFRAME(data_result)\n",
    "# df = df[df['text'].notnull()]\n",
    "# df = df.reset_index(drop=True)\n",
    "# print(df)\n",
    "# print(data_result)"
   ]
  },
  {
   "cell_type": "code",
   "execution_count": 16,
   "metadata": {},
   "outputs": [
    {
     "data": {
      "text/html": [
       "<div>\n",
       "<style scoped>\n",
       "    .dataframe tbody tr th:only-of-type {\n",
       "        vertical-align: middle;\n",
       "    }\n",
       "\n",
       "    .dataframe tbody tr th {\n",
       "        vertical-align: top;\n",
       "    }\n",
       "\n",
       "    .dataframe thead th {\n",
       "        text-align: right;\n",
       "    }\n",
       "</style>\n",
       "<table border=\"1\" class=\"dataframe\">\n",
       "  <thead>\n",
       "    <tr style=\"text-align: right;\">\n",
       "      <th></th>\n",
       "      <th>level</th>\n",
       "      <th>page_num</th>\n",
       "      <th>block_num</th>\n",
       "      <th>par_num</th>\n",
       "      <th>line_num</th>\n",
       "      <th>word_num</th>\n",
       "      <th>left</th>\n",
       "      <th>top</th>\n",
       "      <th>width</th>\n",
       "      <th>height</th>\n",
       "      <th>conf</th>\n",
       "      <th>text</th>\n",
       "    </tr>\n",
       "  </thead>\n",
       "  <tbody>\n",
       "    <tr>\n",
       "      <th>0</th>\n",
       "      <td>1</td>\n",
       "      <td>1</td>\n",
       "      <td>0</td>\n",
       "      <td>0</td>\n",
       "      <td>0</td>\n",
       "      <td>0</td>\n",
       "      <td>0</td>\n",
       "      <td>0</td>\n",
       "      <td>1200</td>\n",
       "      <td>675</td>\n",
       "      <td>-1.000000</td>\n",
       "      <td>NaN</td>\n",
       "    </tr>\n",
       "    <tr>\n",
       "      <th>1</th>\n",
       "      <td>2</td>\n",
       "      <td>1</td>\n",
       "      <td>1</td>\n",
       "      <td>0</td>\n",
       "      <td>0</td>\n",
       "      <td>0</td>\n",
       "      <td>117</td>\n",
       "      <td>0</td>\n",
       "      <td>101</td>\n",
       "      <td>187</td>\n",
       "      <td>-1.000000</td>\n",
       "      <td>NaN</td>\n",
       "    </tr>\n",
       "    <tr>\n",
       "      <th>2</th>\n",
       "      <td>3</td>\n",
       "      <td>1</td>\n",
       "      <td>1</td>\n",
       "      <td>1</td>\n",
       "      <td>0</td>\n",
       "      <td>0</td>\n",
       "      <td>117</td>\n",
       "      <td>0</td>\n",
       "      <td>101</td>\n",
       "      <td>187</td>\n",
       "      <td>-1.000000</td>\n",
       "      <td>NaN</td>\n",
       "    </tr>\n",
       "    <tr>\n",
       "      <th>3</th>\n",
       "      <td>4</td>\n",
       "      <td>1</td>\n",
       "      <td>1</td>\n",
       "      <td>1</td>\n",
       "      <td>1</td>\n",
       "      <td>0</td>\n",
       "      <td>172</td>\n",
       "      <td>0</td>\n",
       "      <td>46</td>\n",
       "      <td>32</td>\n",
       "      <td>-1.000000</td>\n",
       "      <td>NaN</td>\n",
       "    </tr>\n",
       "    <tr>\n",
       "      <th>4</th>\n",
       "      <td>5</td>\n",
       "      <td>1</td>\n",
       "      <td>1</td>\n",
       "      <td>1</td>\n",
       "      <td>1</td>\n",
       "      <td>1</td>\n",
       "      <td>172</td>\n",
       "      <td>0</td>\n",
       "      <td>46</td>\n",
       "      <td>32</td>\n",
       "      <td>95.000000</td>\n",
       "      <td></td>\n",
       "    </tr>\n",
       "    <tr>\n",
       "      <th>...</th>\n",
       "      <td>...</td>\n",
       "      <td>...</td>\n",
       "      <td>...</td>\n",
       "      <td>...</td>\n",
       "      <td>...</td>\n",
       "      <td>...</td>\n",
       "      <td>...</td>\n",
       "      <td>...</td>\n",
       "      <td>...</td>\n",
       "      <td>...</td>\n",
       "      <td>...</td>\n",
       "      <td>...</td>\n",
       "    </tr>\n",
       "    <tr>\n",
       "      <th>70</th>\n",
       "      <td>5</td>\n",
       "      <td>1</td>\n",
       "      <td>5</td>\n",
       "      <td>1</td>\n",
       "      <td>1</td>\n",
       "      <td>1</td>\n",
       "      <td>451</td>\n",
       "      <td>510</td>\n",
       "      <td>95</td>\n",
       "      <td>40</td>\n",
       "      <td>92.834084</td>\n",
       "      <td>4072</td>\n",
       "    </tr>\n",
       "    <tr>\n",
       "      <th>71</th>\n",
       "      <td>5</td>\n",
       "      <td>1</td>\n",
       "      <td>5</td>\n",
       "      <td>1</td>\n",
       "      <td>1</td>\n",
       "      <td>2</td>\n",
       "      <td>573</td>\n",
       "      <td>508</td>\n",
       "      <td>91</td>\n",
       "      <td>39</td>\n",
       "      <td>92.834084</td>\n",
       "      <td>6523</td>\n",
       "    </tr>\n",
       "    <tr>\n",
       "      <th>72</th>\n",
       "      <td>5</td>\n",
       "      <td>1</td>\n",
       "      <td>5</td>\n",
       "      <td>1</td>\n",
       "      <td>1</td>\n",
       "      <td>3</td>\n",
       "      <td>690</td>\n",
       "      <td>505</td>\n",
       "      <td>88</td>\n",
       "      <td>40</td>\n",
       "      <td>96.553596</td>\n",
       "      <td>3592</td>\n",
       "    </tr>\n",
       "    <tr>\n",
       "      <th>73</th>\n",
       "      <td>2</td>\n",
       "      <td>1</td>\n",
       "      <td>6</td>\n",
       "      <td>0</td>\n",
       "      <td>0</td>\n",
       "      <td>0</td>\n",
       "      <td>94</td>\n",
       "      <td>483</td>\n",
       "      <td>1106</td>\n",
       "      <td>192</td>\n",
       "      <td>-1.000000</td>\n",
       "      <td>NaN</td>\n",
       "    </tr>\n",
       "    <tr>\n",
       "      <th>74</th>\n",
       "      <td>3</td>\n",
       "      <td>1</td>\n",
       "      <td>6</td>\n",
       "      <td>1</td>\n",
       "      <td>0</td>\n",
       "      <td>0</td>\n",
       "      <td>94</td>\n",
       "      <td>483</td>\n",
       "      <td>1106</td>\n",
       "      <td>192</td>\n",
       "      <td>-1.000000</td>\n",
       "      <td>NaN</td>\n",
       "    </tr>\n",
       "  </tbody>\n",
       "</table>\n",
       "<p>75 rows × 12 columns</p>\n",
       "</div>"
      ],
      "text/plain": [
       "    level  page_num  block_num  par_num  line_num  word_num  left  top  width  \\\n",
       "0       1         1          0        0         0         0     0    0   1200   \n",
       "1       2         1          1        0         0         0   117    0    101   \n",
       "2       3         1          1        1         0         0   117    0    101   \n",
       "3       4         1          1        1         1         0   172    0     46   \n",
       "4       5         1          1        1         1         1   172    0     46   \n",
       "..    ...       ...        ...      ...       ...       ...   ...  ...    ...   \n",
       "70      5         1          5        1         1         1   451  510     95   \n",
       "71      5         1          5        1         1         2   573  508     91   \n",
       "72      5         1          5        1         1         3   690  505     88   \n",
       "73      2         1          6        0         0         0    94  483   1106   \n",
       "74      3         1          6        1         0         0    94  483   1106   \n",
       "\n",
       "    height       conf  text  \n",
       "0      675  -1.000000   NaN  \n",
       "1      187  -1.000000   NaN  \n",
       "2      187  -1.000000   NaN  \n",
       "3       32  -1.000000   NaN  \n",
       "4       32  95.000000        \n",
       "..     ...        ...   ...  \n",
       "70      40  92.834084  4072  \n",
       "71      39  92.834084  6523  \n",
       "72      40  96.553596  3592  \n",
       "73     192  -1.000000   NaN  \n",
       "74     192  -1.000000   NaN  \n",
       "\n",
       "[75 rows x 12 columns]"
      ]
     },
     "execution_count": 16,
     "metadata": {},
     "output_type": "execute_result"
    }
   ],
   "source": [
    "data_result.head(75)"
   ]
  },
  {
   "cell_type": "code",
   "execution_count": 22,
   "metadata": {},
   "outputs": [
    {
     "name": "stdout",
     "output_type": "stream",
     "text": [
      "False\n",
      "sdfdfgf 0410 0111 1997\n"
     ]
    }
   ],
   "source": [
    "import re\n",
    "\n",
    "test_str = '0410 0111 1997'\n",
    "# test_str = ocr_result\n",
    "# pattern_str = r'^\\d{4} \\d{4} \\d{4}$'\n",
    "# pattern_str = \\d{4}\\s?\\d{4}\\s?\\d{4}/\n",
    "pattern_str =r'\\b\\d{4}\\s\\d{4}\\s\\d{4}\\b'\n",
    "\n",
    "if re.match(pattern_str, test_str):\n",
    "\tprint(\"True\")\n",
    "\tprint (test_str)\n",
    "else:\n",
    "\tprint(\"False\")\n",
    "\tprint (test_str)"
   ]
  },
  {
   "cell_type": "code",
   "execution_count": 1,
   "metadata": {},
   "outputs": [
    {
     "name": "stderr",
     "output_type": "stream",
     "text": [
      "c:\\Users\\Pratham\\AppData\\Local\\Programs\\Python\\Python310\\lib\\site-packages\\tqdm\\auto.py:21: TqdmWarning: IProgress not found. Please update jupyter and ipywidgets. See https://ipywidgets.readthedocs.io/en/stable/user_install.html\n",
      "  from .autonotebook import tqdm as notebook_tqdm\n"
     ]
    }
   ],
   "source": [
    "from aadhar_pan_extractor import Pan_Info_Extractor,Aadhar_Info_Extractor"
   ]
  },
  {
   "cell_type": "code",
   "execution_count": 2,
   "metadata": {},
   "outputs": [],
   "source": [
    "extractor = Aadhar_Info_Extractor()"
   ]
  },
  {
   "cell_type": "code",
   "execution_count": 3,
   "metadata": {},
   "outputs": [
    {
     "data": {
      "text/plain": [
       "'{\"Aadhar_number\": \"4072 6523 3592\", \"Name\": null, \"Gender\": \"Female\", \"DOB\": \"1994\", \"Address\": \"NAN\"}'"
      ]
     },
     "execution_count": 3,
     "metadata": {},
     "output_type": "execute_result"
    }
   ],
   "source": [
    "extractor.info_extractor('KB.jpg')"
   ]
  },
  {
   "cell_type": "code",
   "execution_count": null,
   "metadata": {},
   "outputs": [],
   "source": []
  }
 ],
 "metadata": {
  "kernelspec": {
   "display_name": "Python 3",
   "language": "python",
   "name": "python3"
  },
  "language_info": {
   "codemirror_mode": {
    "name": "ipython",
    "version": 3
   },
   "file_extension": ".py",
   "mimetype": "text/x-python",
   "name": "python",
   "nbconvert_exporter": "python",
   "pygments_lexer": "ipython3",
   "version": "3.10.8"
  }
 },
 "nbformat": 4,
 "nbformat_minor": 2
}
